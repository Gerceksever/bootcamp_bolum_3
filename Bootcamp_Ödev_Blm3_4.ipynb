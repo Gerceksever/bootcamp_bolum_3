{
 "cells": [
  {
   "cell_type": "markdown",
   "metadata": {},
   "source": [
    "Bu soruda, merkezi limit teoreminin çalışıp çalışmadığını test edeceksiniz. İki adet normal dağılıma sahip 1000 gözlem içeren değişken üreteceksiniz. Bu değişkenlerin, ortalama ve standart sapmasını kendiniz belirleyebilirsiniz. Yapmanız gereken, ilk değişkeni 50 kere üretin ve her seferinde bu değişkenin ortalamasını alın. İkinci değişkeni ise 1000 kere üretin ve yine her seferinde bu değişkenin ortalamasını alın. Daha sonra, iki değişkenin hesapladığınız ortalamalarının histogramını çizdirin. Hangi değişkenin ortalamalarının dağılımı normal dağılıma daha yakın? Sizce Merkezi Limit Theoremi çalışmış görünüyor mu?"
   ]
  },
  {
   "cell_type": "code",
   "execution_count": null,
   "metadata": {},
   "outputs": [],
   "source": []
  },
  {
   "cell_type": "markdown",
   "metadata": {},
   "source": [
    "İki madeni paramızın olduğunu varsayalım. Bunlardan bir tanesi adil (yani, yeteri kadar deneme yapıldığında yazı veya tura 1/2 olasılığına yaklaşmakta), diğeri ise adil değil ve atıldığında 3/4 olasılığında tura elde edilmektedir. Herhangi biri seçilip, n kere deneme yapıldığında, Büyük Sayılar Yasası uzun vadede gelecek tura sayısını tahmin etmemize izin verir mi? Çok sayıda deneme yapıldığında, hangi paranın seçildiğini bilebilir miyiz?"
   ]
  },
  {
   "cell_type": "code",
   "execution_count": null,
   "metadata": {},
   "outputs": [],
   "source": []
  }
 ],
 "metadata": {
  "kernelspec": {
   "display_name": "Python 3",
   "language": "python",
   "name": "python3"
  },
  "language_info": {
   "codemirror_mode": {
    "name": "ipython",
    "version": 3
   },
   "file_extension": ".py",
   "mimetype": "text/x-python",
   "name": "python",
   "nbconvert_exporter": "python",
   "pygments_lexer": "ipython3",
   "version": "3.7.0"
  }
 },
 "nbformat": 4,
 "nbformat_minor": 2
}
